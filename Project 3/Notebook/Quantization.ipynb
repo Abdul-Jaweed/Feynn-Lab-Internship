{
  "nbformat": 4,
  "nbformat_minor": 0,
  "metadata": {
    "colab": {
      "provenance": [],
      "gpuType": "T4"
    },
    "kernelspec": {
      "name": "python3",
      "display_name": "Python 3"
    },
    "language_info": {
      "name": "python"
    },
    "accelerator": "GPU"
  },
  "cells": [
    {
      "cell_type": "code",
      "execution_count": null,
      "metadata": {
        "colab": {
          "base_uri": "https://localhost:8080/"
        },
        "id": "z_t-USvjSZX9",
        "outputId": "e3267f8a-8fc7-4ccc-aa23-54be1940e27a"
      },
      "outputs": [
        {
          "output_type": "stream",
          "name": "stdout",
          "text": [
            "--2023-07-15 16:03:57--  https://github.com/Abdul-Jaweed/Agriculture-Crop-Disease-Classifier-App/blob/main/model.h5\n",
            "Resolving github.com (github.com)... 20.205.243.166\n",
            "Connecting to github.com (github.com)|20.205.243.166|:443... connected.\n",
            "HTTP request sent, awaiting response... 200 OK\n",
            "Length: 4761 (4.6K) [text/plain]\n",
            "Saving to: ‘model.h5’\n",
            "\n",
            "model.h5            100%[===================>]   4.65K  --.-KB/s    in 0s      \n",
            "\n",
            "2023-07-15 16:03:58 (72.7 MB/s) - ‘model.h5’ saved [4761/4761]\n",
            "\n"
          ]
        }
      ],
      "source": [
        "!wget https://github.com/Abdul-Jaweed/Agriculture-Crop-Disease-Classifier-App/blob/main/model.h5"
      ]
    },
    {
      "cell_type": "code",
      "source": [
        "!git clone https://github.com/Abdul-Jaweed/Agriculture-Crop-Disease-Classifier-App"
      ],
      "metadata": {
        "colab": {
          "base_uri": "https://localhost:8080/"
        },
        "id": "9f3R6jSgUy-K",
        "outputId": "d7d1592d-63e6-4096-c5e7-db962a5baafe"
      },
      "execution_count": null,
      "outputs": [
        {
          "output_type": "stream",
          "name": "stdout",
          "text": [
            "Cloning into 'Agriculture-Crop-Disease-Classifier-App'...\n",
            "remote: Enumerating objects: 34, done.\u001b[K\n",
            "remote: Counting objects: 100% (3/3), done.\u001b[K\n",
            "remote: Compressing objects: 100% (2/2), done.\u001b[K\n",
            "remote: Total 34 (delta 0), reused 2 (delta 0), pack-reused 31\u001b[K\n",
            "Unpacking objects: 100% (34/34), 56.07 MiB | 8.89 MiB/s, done.\n"
          ]
        }
      ]
    },
    {
      "cell_type": "code",
      "source": [],
      "metadata": {
        "id": "abJFpnhrUzF5"
      },
      "execution_count": null,
      "outputs": []
    },
    {
      "cell_type": "code",
      "source": [],
      "metadata": {
        "id": "3eaG9OaxUzJo"
      },
      "execution_count": null,
      "outputs": []
    },
    {
      "cell_type": "code",
      "source": [
        "import os\n",
        "print(os.listdir('/content/'))"
      ],
      "metadata": {
        "colab": {
          "base_uri": "https://localhost:8080/"
        },
        "id": "GfvEcL-QTSKa",
        "outputId": "213a0cbb-4aea-40b0-8434-ab36797aad05"
      },
      "execution_count": null,
      "outputs": [
        {
          "output_type": "stream",
          "name": "stdout",
          "text": [
            "['.config', 'model.h5', 'sample_data']\n"
          ]
        }
      ]
    },
    {
      "cell_type": "code",
      "source": [
        "!pip install h5py==2.10.0"
      ],
      "metadata": {
        "colab": {
          "base_uri": "https://localhost:8080/"
        },
        "id": "wblQzaFtTSOq",
        "outputId": "e212af48-44cb-4575-a8b8-b3efa1949088"
      },
      "execution_count": null,
      "outputs": [
        {
          "output_type": "stream",
          "name": "stdout",
          "text": [
            "Requirement already satisfied: h5py==2.10.0 in /usr/local/lib/python3.10/dist-packages (2.10.0)\n",
            "Requirement already satisfied: numpy>=1.7 in /usr/local/lib/python3.10/dist-packages (from h5py==2.10.0) (1.22.4)\n",
            "Requirement already satisfied: six in /usr/local/lib/python3.10/dist-packages (from h5py==2.10.0) (1.16.0)\n"
          ]
        }
      ]
    },
    {
      "cell_type": "code",
      "source": [
        "import os\n",
        "\n",
        "file_path = '/content/model.h5'\n",
        "if os.path.exists(file_path):\n",
        "    print(\"Model file exists.\")\n",
        "else:\n",
        "    print(\"Model file not found. Please check the file path.\")"
      ],
      "metadata": {
        "colab": {
          "base_uri": "https://localhost:8080/"
        },
        "id": "site2uXdTSSn",
        "outputId": "02e9eed6-6351-47b4-e62b-686fea0e2562"
      },
      "execution_count": null,
      "outputs": [
        {
          "output_type": "stream",
          "name": "stdout",
          "text": [
            "Model file exists.\n"
          ]
        }
      ]
    },
    {
      "cell_type": "code",
      "source": [
        "import h5py\n",
        "print(h5py.__version__)"
      ],
      "metadata": {
        "colab": {
          "base_uri": "https://localhost:8080/"
        },
        "id": "FzlFgTFzUR38",
        "outputId": "a442d597-8e22-4fbd-cb14-d5ddc5a50974"
      },
      "execution_count": null,
      "outputs": [
        {
          "output_type": "stream",
          "name": "stdout",
          "text": [
            "3.8.0\n"
          ]
        }
      ]
    },
    {
      "cell_type": "code",
      "source": [
        "import tensorflow as tf\n",
        "\n",
        "# Load the Keras model from the .h5 file\n",
        "model = tf.keras.models.load_model('/content/Agriculture-Crop-Disease-Classifier-App/model.h5', compile=False)\n",
        "\n",
        "# Convert the model to a TensorFlow Lite model\n",
        "converter = tf.lite.TFLiteConverter.from_keras_model(model)\n",
        "\n",
        "# Set optimizations for quantization\n",
        "converter.optimizations = [tf.lite.Optimize.DEFAULT]\n",
        "\n",
        "# Convert the model to a TensorFlow Lite quantized model\n",
        "tflite_quant_model = converter.convert()\n",
        "\n",
        "# Save the quantized model to a new .tflite file\n",
        "with open('model_quantized.tflite', 'wb') as f:\n",
        "    f.write(tflite_quant_model)\n"
      ],
      "metadata": {
        "colab": {
          "base_uri": "https://localhost:8080/"
        },
        "id": "0ooP2wipS12D",
        "outputId": "a22583a8-1d7a-48ff-cb49-0209e15fd009"
      },
      "execution_count": null,
      "outputs": [
        {
          "output_type": "stream",
          "name": "stderr",
          "text": [
            "WARNING:absl:Found untraced functions such as _jit_compiled_convolution_op, _jit_compiled_convolution_op, _jit_compiled_convolution_op while saving (showing 3 of 3). These functions will not be directly callable after loading.\n"
          ]
        }
      ]
    },
    {
      "cell_type": "code",
      "source": [],
      "metadata": {
        "id": "5ZR5bh1tUk6A"
      },
      "execution_count": null,
      "outputs": []
    },
    {
      "cell_type": "code",
      "source": [],
      "metadata": {
        "id": "owF9ghHNVZlI"
      },
      "execution_count": null,
      "outputs": []
    }
  ]
}