{
  "nbformat": 4,
  "nbformat_minor": 0,
  "metadata": {
    "colab": {
      "provenance": [],
      "gpuType": "T4"
    },
    "kernelspec": {
      "name": "python3",
      "display_name": "Python 3"
    },
    "language_info": {
      "name": "python"
    },
    "accelerator": "GPU"
  },
  "cells": [
    {
      "cell_type": "code",
      "execution_count": null,
      "metadata": {
        "id": "i9s6warR9DaX"
      },
      "outputs": [],
      "source": [
        "#Import Necessary libraries\n",
        "import torch\n",
        "import torch.nn as nn\n",
        "import torch.optim as optim\n",
        "import torchvision.transforms as transforms\n",
        "from torch.utils.data import DataLoader\n",
        "from torchvision.datasets import ImageFolder\n",
        "import torchvision.models as models"
      ]
    },
    {
      "cell_type": "markdown",
      "source": [
        "# ***Loading Dataset***"
      ],
      "metadata": {
        "id": "bI14acZf9nSU"
      }
    },
    {
      "cell_type": "code",
      "source": [
        "import gdown\n",
        "import zipfile\n",
        "\n",
        "url = 'https://drive.google.com/uc?id=1l9sYu1jnRvFwTXte77mGew0fvopKYY3n'\n",
        "output = 'dataset.zip'\n",
        "\n",
        "gdown.download(url, output, quiet=False)\n",
        "\n",
        "with zipfile.ZipFile(output, 'r') as zip_ref:\n",
        "    zip_ref.extractall('extracted_dataset')"
      ],
      "metadata": {
        "id": "9Mw2hUDj9sKy"
      },
      "execution_count": null,
      "outputs": []
    },
    {
      "cell_type": "code",
      "source": [
        "#Define Dataset paths & Transformations\n",
        "train_dir = '/content/extracted_dataset/train'\n",
        "test_dir = '/content/extracted_dataset/test'\n",
        "transform = transforms.Compose([\n",
        "    transforms.Resize((224, 224)),\n",
        "    transforms.ToTensor(),\n",
        "    transforms.Normalize((0.485, 0.456, 0.406), (0.229, 0.224, 0.225))\n",
        "])"
      ],
      "metadata": {
        "id": "Cq4Qv1Ul-ws4"
      },
      "execution_count": null,
      "outputs": []
    },
    {
      "cell_type": "code",
      "source": [
        "#Load the training and testing datasets\n",
        "train_dataset = ImageFolder(train_dir, transform=transform)\n",
        "test_dataset = ImageFolder(test_dir, transform=transform)"
      ],
      "metadata": {
        "id": "BgzHJuzj-y90"
      },
      "execution_count": null,
      "outputs": []
    },
    {
      "cell_type": "code",
      "source": [
        "#Create data loaders for training and validation\n",
        "batch_size = 32\n",
        "train_loader = DataLoader(train_dataset, batch_size=batch_size, shuffle=True)\n",
        "test_loader = DataLoader(test_dataset, batch_size=batch_size, shuffle=False)"
      ],
      "metadata": {
        "id": "dHMD8R9b-_JU"
      },
      "execution_count": null,
      "outputs": []
    },
    {
      "cell_type": "markdown",
      "source": [
        "# ***DenseNET Model***"
      ],
      "metadata": {
        "id": "SaLqH8mP_LfA"
      }
    },
    {
      "cell_type": "code",
      "source": [
        "#Define DenseNET Model\n",
        "model = models.densenet121()"
      ],
      "metadata": {
        "id": "p-_lhTyL_QnL"
      },
      "execution_count": null,
      "outputs": []
    },
    {
      "cell_type": "code",
      "source": [
        "#Modify Model's Last FC Layer\n",
        "num_classes = len(train_dataset.classes)\n",
        "print(\"Number of Classes: \",num_classes)\n",
        "model.classifier = nn.Linear(model.classifier.in_features, num_classes)"
      ],
      "metadata": {
        "id": "4GVjv5bn_hgm"
      },
      "execution_count": null,
      "outputs": []
    },
    {
      "cell_type": "code",
      "source": [
        "#Define Loss function and Optimizer\n",
        "criterion = nn.CrossEntropyLoss()\n",
        "optimizer = optim.SGD(model.parameters(), lr=0.01, momentum=0.9)"
      ],
      "metadata": {
        "id": "sRYndIgB_rzr"
      },
      "execution_count": null,
      "outputs": []
    },
    {
      "cell_type": "code",
      "source": [
        "#Train VGG16 Model & Calculating Accuaracy of Model\n",
        "num_epochs = 4\n",
        "\n",
        "for epoch in range(num_epochs):\n",
        "    # Training loop\n",
        "    model.train()\n",
        "    train_loss = 0.0\n",
        "    for images, labels in train_loader:\n",
        "        optimizer.zero_grad()\n",
        "        outputs = model(images)\n",
        "        loss = criterion(outputs, labels)\n",
        "        loss.backward()\n",
        "        optimizer.step()\n",
        "\n",
        "        train_loss += loss.item() * images.size(0)\n",
        "\n",
        "    # Validation loop\n",
        "    model.eval()\n",
        "    val_loss = 0.0\n",
        "    val_correct = 0\n",
        "    with torch.no_grad():\n",
        "        for images, labels in test_loader:\n",
        "\n",
        "            outputs = model(images)\n",
        "            loss = criterion(outputs, labels)\n",
        "            val_loss += loss.item() * images.size(0)\n",
        "\n",
        "            _, preds = torch.max(outputs, 1)\n",
        "            val_correct += torch.sum(preds == labels.data)\n",
        "\n",
        "    # Calculate average losses and accuracy\n",
        "    train_loss = train_loss / len(train_dataset)\n",
        "    val_loss = val_loss / len(test_dataset)\n",
        "    val_accuracy = val_correct.double() / len(test_dataset)\n",
        "\n",
        "    # Print epoch statistics\n",
        "    print(f\"Epoch {epoch+1}/{num_epochs}\")\n",
        "    print(f\"Train Loss: {train_loss:.4f} | Val Loss: {val_loss:.4f} | Val Acc: {val_accuracy:.4f}\")\n"
      ],
      "metadata": {
        "id": "7RRmHNcM_3cM"
      },
      "execution_count": null,
      "outputs": []
    }
  ]
}